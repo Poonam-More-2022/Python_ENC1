{
  "nbformat": 4,
  "nbformat_minor": 0,
  "metadata": {
    "colab": {
      "provenance": []
    },
    "kernelspec": {
      "name": "python3",
      "display_name": "Python 3"
    },
    "language_info": {
      "name": "python"
    }
  },
  "cells": [
    {
      "cell_type": "code",
      "execution_count": null,
      "metadata": {
        "colab": {
          "base_uri": "https://localhost:8080/"
        },
        "id": "AUq6xAE386m2",
        "outputId": "59208c45-a20a-458f-cfbc-d8812ebf94b4"
      },
      "outputs": [
        {
          "output_type": "stream",
          "name": "stdout",
          "text": [
            "umit\n"
          ]
        }
      ],
      "source": [
        "print('umit')"
      ]
    },
    {
      "cell_type": "code",
      "source": [
        "print(4+2)"
      ],
      "metadata": {
        "colab": {
          "base_uri": "https://localhost:8080/"
        },
        "id": "ONV8Q4uA-qkD",
        "outputId": "d93d3d2b-7e6f-4b94-c43e-50e1986b3889"
      },
      "execution_count": null,
      "outputs": [
        {
          "output_type": "stream",
          "name": "stdout",
          "text": [
            "6\n"
          ]
        }
      ]
    },
    {
      "cell_type": "markdown",
      "source": [
        "- webdevelopment\n",
        "  - Gaming application\n",
        "  - chatbots\n",
        "\n",
        "\n",
        "\n"
      ],
      "metadata": {
        "id": "ICM7bZolAY-O"
      }
    }
  ]
}